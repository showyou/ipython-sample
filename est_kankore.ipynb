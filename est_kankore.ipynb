{
 "metadata": {
  "name": "",
  "signature": "sha256:f9bc0c3371cdb95236065cff4ea8f1e13ee97ad42fe8debcaac12cef98d848c2"
 },
 "nbformat": 3,
 "nbformat_minor": 0,
 "worksheets": [
  {
   "cells": [
    {
     "cell_type": "code",
     "collapsed": false,
     "input": [
      "%matplotlib inline"
     ],
     "language": "python",
     "metadata": {},
     "outputs": [],
     "prompt_number": 2
    },
    {
     "cell_type": "code",
     "collapsed": false,
     "input": [
      " data = loadtxt(\"kankore.csv\",delimiter=\",\")"
     ],
     "language": "python",
     "metadata": {},
     "outputs": [],
     "prompt_number": 35
    },
    {
     "cell_type": "code",
     "collapsed": false,
     "input": [
      "data"
     ],
     "language": "python",
     "metadata": {},
     "outputs": [
      {
       "metadata": {},
       "output_type": "pyout",
       "prompt_number": 36,
       "text": [
        "array([[  0.00000000e+00,   5.00000000e+03],\n",
        "       [  4.00000000e+00,   1.00000000e+04],\n",
        "       [  2.20000000e+01,   2.00000000e+04],\n",
        "       [  3.90000000e+01,   3.00000000e+04],\n",
        "       [  4.50000000e+01,   4.00000000e+04],\n",
        "       [  5.00000000e+01,   5.00000000e+04],\n",
        "       [  5.40000000e+01,   6.00000000e+04],\n",
        "       [  5.90000000e+01,   7.50000000e+04],\n",
        "       [  7.00000000e+01,   7.50000000e+04],\n",
        "       [  7.20000000e+01,   1.00000000e+05],\n",
        "       [  7.90000000e+01,   1.20000000e+05],\n",
        "       [  8.40000000e+01,   1.60000000e+05],\n",
        "       [  8.70000000e+01,   2.00000000e+05],\n",
        "       [  1.00000000e+02,   2.80000000e+05],\n",
        "       [  1.02000000e+02,   3.00000000e+05],\n",
        "       [  1.12000000e+02,   6.50000000e+05],\n",
        "       [  1.42000000e+02,   9.50000000e+05],\n",
        "       [  1.73000000e+02,   1.14000000e+06],\n",
        "       [  2.57000000e+02,   1.50000000e+06],\n",
        "       [  3.05000000e+02,   1.70000000e+06],\n",
        "       [  3.96000000e+02,   2.00000000e+06]])"
       ]
      }
     ],
     "prompt_number": 36
    },
    {
     "cell_type": "code",
     "collapsed": false,
     "input": [
      "x_act= data[:,0]"
     ],
     "language": "python",
     "metadata": {},
     "outputs": [],
     "prompt_number": 54
    },
    {
     "cell_type": "code",
     "collapsed": false,
     "input": [
      "x_act"
     ],
     "language": "python",
     "metadata": {},
     "outputs": [
      {
       "metadata": {},
       "output_type": "pyout",
       "prompt_number": 55,
       "text": [
        "array([   0.,    4.,   22.,   39.,   45.,   50.,   54.,   59.,   70.,\n",
        "         72.,   79.,   84.,   87.,  100.,  102.,  112.,  142.,  173.,\n",
        "        257.,  305.,  396.])"
       ]
      }
     ],
     "prompt_number": 55
    },
    {
     "cell_type": "code",
     "collapsed": false,
     "input": [
      "y_act = data[:,1]"
     ],
     "language": "python",
     "metadata": {},
     "outputs": [],
     "prompt_number": 6
    },
    {
     "cell_type": "code",
     "collapsed": false,
     "input": [
      "import pylab as pl"
     ],
     "language": "python",
     "metadata": {},
     "outputs": [],
     "prompt_number": 7
    },
    {
     "cell_type": "code",
     "collapsed": false,
     "input": [
      "%matplotlib inline"
     ],
     "language": "python",
     "metadata": {},
     "outputs": [],
     "prompt_number": 10
    },
    {
     "cell_type": "code",
     "collapsed": false,
     "input": [
      "pl.plot(x_act, y_act)"
     ],
     "language": "python",
     "metadata": {},
     "outputs": [
      {
       "metadata": {},
       "output_type": "pyout",
       "prompt_number": 8,
       "text": [
        "[<matplotlib.lines.Line2D at 0x1056864d0>]"
       ]
      },
      {
       "metadata": {},
       "output_type": "display_data",
       "png": "[encoded data removed]",
       "text": [
        "<matplotlib.figure.Figure at 0x1055e7450>"
       ]
      }
     ],
     "prompt_number": 8
    },
    {
     "cell_type": "code",
     "collapsed": false,
     "input": [
      "from sklearn.linear_model import Ridge"
     ],
     "language": "python",
     "metadata": {},
     "outputs": [],
     "prompt_number": 9
    },
    {
     "cell_type": "code",
     "collapsed": false,
     "input": [
      "degree = 4"
     ],
     "language": "python",
     "metadata": {},
     "outputs": [],
     "prompt_number": 67
    },
    {
     "cell_type": "code",
     "collapsed": false,
     "input": [
      "ridge = Ridge()\n",
      "ridge.fit(np.vander(x_act, degree + 1), y_act)"
     ],
     "language": "python",
     "metadata": {},
     "outputs": [
      {
       "metadata": {},
       "output_type": "pyout",
       "prompt_number": 68,
       "text": [
        "Ridge(alpha=1.0, copy_X=True, fit_intercept=True, max_iter=None,\n",
        "   normalize=False, solver='auto', tol=0.001)"
       ]
      }
     ],
     "prompt_number": 68
    },
    {
     "cell_type": "code",
     "collapsed": false,
     "input": [
      "x_pred = x_act"
     ],
     "language": "python",
     "metadata": {},
     "outputs": [],
     "prompt_number": 40
    },
    {
     "cell_type": "code",
     "collapsed": false,
     "input": [
      "x_pred2 = array([400, 450, 500])"
     ],
     "language": "python",
     "metadata": {},
     "outputs": [],
     "prompt_number": 42
    },
    {
     "cell_type": "code",
     "collapsed": false,
     "input": [
      "x_pred"
     ],
     "language": "python",
     "metadata": {},
     "outputs": [
      {
       "metadata": {},
       "output_type": "pyout",
       "prompt_number": 72,
       "text": [
        "array([   0.,    4.,   22.,   39.,   45.,   50.,   54.,   59.,   70.,\n",
        "         72.,   79.,   84.,   87.,  100.,  102.,  112.,  142.,  173.,\n",
        "        257.,  305.,  396.,  400.,  450.,  500.])"
       ]
      }
     ],
     "prompt_number": 72
    },
    {
     "cell_type": "code",
     "collapsed": false,
     "input": [
      " pl.plot(x_pred, ridge.predict(np.vander(x_pred, degree + 1)),\n",
      "            label=\"degree %d\" % degree)"
     ],
     "language": "python",
     "metadata": {},
     "outputs": [
      {
       "metadata": {},
       "output_type": "pyout",
       "prompt_number": 73,
       "text": [
        "[<matplotlib.lines.Line2D at 0x106b2fe10>]"
       ]
      },
      {
       "metadata": {},
       "output_type": "display_data",
       "png": "[encoded data removed]",
       "text": [
        "<matplotlib.figure.Figure at 0x106a78750>"
       ]
      }
     ],
     "prompt_number": 73
    },
    {
     "cell_type": "code",
     "collapsed": false,
     "input": [
      "ridge.predict(np.vander(x_pred, degree + 1))"
     ],
     "language": "python",
     "metadata": {},
     "outputs": [
      {
       "metadata": {},
       "output_type": "pyout",
       "prompt_number": 74,
       "text": [
        "array([  6.47551242e+04,   3.33421668e+04,  -4.48699420e+04,\n",
        "        -3.81485255e+04,  -2.03724063e+04,  -2.59632296e+02,\n",
        "         1.90181238e+04,   4.67815187e+04,   1.20490038e+05,\n",
        "         1.35537880e+05,   1.91628217e+05,   2.34591430e+05,\n",
        "         2.61378768e+05,   3.84479342e+05,   4.04226921e+05,\n",
        "         5.05133885e+05,   8.13765242e+05,   1.10754964e+06,\n",
        "         1.58391796e+06,   1.65972260e+06,   2.00233166e+06,\n",
        "         2.04430235e+06,   2.96948176e+06,   4.99296693e+06])"
       ]
      }
     ],
     "prompt_number": 74
    },
    {
     "cell_type": "code",
     "collapsed": false,
     "input": [
      "pl.scatter(x_pred, ridge.predict(np.vander(x_pred, degree + 1)), label=\"training points\")"
     ],
     "language": "python",
     "metadata": {},
     "outputs": [
      {
       "metadata": {},
       "output_type": "pyout",
       "prompt_number": 75,
       "text": [
        "<matplotlib.collections.PathCollection at 0x106bcaf90>"
       ]
      },
      {
       "metadata": {},
       "output_type": "display_data",
       "png": "[encoded data removed]",
       "text": [
        "<matplotlib.figure.Figure at 0x106b2ff50>"
       ]
      }
     ],
     "prompt_number": 75
    }
   ],
   "metadata": {}
  }
 ]
}