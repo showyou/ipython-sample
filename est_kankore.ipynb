{
 "metadata": {
  "name": "",
  "signature": "sha256:258f05a16dc65d895f4b5bacce18a1a3d606aab57c408d7fdff3cea91c3c368b"
 },
 "nbformat": 3,
 "nbformat_minor": 0,
 "worksheets": [
  {
   "cells": [
    {
     "cell_type": "code",
     "collapsed": false,
     "input": [
      "%matplotlib inline"
     ],
     "language": "python",
     "metadata": {},
     "outputs": [],
     "prompt_number": 1
    },
    {
     "cell_type": "code",
     "collapsed": false,
     "input": [
      " data = loadtxt(\"kankore.csv\",delimiter=\",\")"
     ],
     "language": "python",
     "metadata": {},
     "outputs": [],
     "prompt_number": 2
    },
    {
     "cell_type": "code",
     "collapsed": false,
     "input": [
      "data"
     ],
     "language": "python",
     "metadata": {},
     "outputs": [
      {
       "metadata": {},
       "output_type": "pyout",
       "prompt_number": 3,
       "text": [
        "array([[  0.00000000e+00,   5.00000000e+03],\n",
        "       [  4.00000000e+00,   1.00000000e+04],\n",
        "       [  2.20000000e+01,   2.00000000e+04],\n",
        "       [  3.90000000e+01,   3.00000000e+04],\n",
        "       [  4.50000000e+01,   4.00000000e+04],\n",
        "       [  5.00000000e+01,   5.00000000e+04],\n",
        "       [  5.40000000e+01,   6.00000000e+04],\n",
        "       [  5.90000000e+01,   7.50000000e+04],\n",
        "       [  7.00000000e+01,   7.50000000e+04],\n",
        "       [  7.20000000e+01,   1.00000000e+05],\n",
        "       [  7.90000000e+01,   1.20000000e+05],\n",
        "       [  8.40000000e+01,   1.60000000e+05],\n",
        "       [  8.70000000e+01,   2.00000000e+05],\n",
        "       [  1.00000000e+02,   2.80000000e+05],\n",
        "       [  1.02000000e+02,   3.00000000e+05],\n",
        "       [  1.12000000e+02,   6.50000000e+05],\n",
        "       [  1.42000000e+02,   9.50000000e+05],\n",
        "       [  1.73000000e+02,   1.14000000e+06],\n",
        "       [  2.57000000e+02,   1.50000000e+06],\n",
        "       [  3.05000000e+02,   1.70000000e+06],\n",
        "       [  3.96000000e+02,   2.00000000e+06]])"
       ]
      }
     ],
     "prompt_number": 3
    },
    {
     "cell_type": "code",
     "collapsed": false,
     "input": [
      "x_act= data[:,0]"
     ],
     "language": "python",
     "metadata": {},
     "outputs": [],
     "prompt_number": 4
    },
    {
     "cell_type": "code",
     "collapsed": false,
     "input": [
      "x_act"
     ],
     "language": "python",
     "metadata": {},
     "outputs": [
      {
       "metadata": {},
       "output_type": "pyout",
       "prompt_number": 5,
       "text": [
        "array([   0.,    4.,   22.,   39.,   45.,   50.,   54.,   59.,   70.,\n",
        "         72.,   79.,   84.,   87.,  100.,  102.,  112.,  142.,  173.,\n",
        "        257.,  305.,  396.])"
       ]
      }
     ],
     "prompt_number": 5
    },
    {
     "cell_type": "code",
     "collapsed": false,
     "input": [
      "y_act = data[:,1]"
     ],
     "language": "python",
     "metadata": {},
     "outputs": [],
     "prompt_number": 6
    },
    {
     "cell_type": "code",
     "collapsed": false,
     "input": [
      "import pylab as pl"
     ],
     "language": "python",
     "metadata": {},
     "outputs": [],
     "prompt_number": 7
    },
    {
     "cell_type": "code",
     "collapsed": false,
     "input": [
      "pl.plot(x_act, y_act)"
     ],
     "language": "python",
     "metadata": {},
     "outputs": [
      {
       "metadata": {},
       "output_type": "pyout",
       "prompt_number": 9,
       "text": [
        "[<matplotlib.lines.Line2D at 0x10d0a7450>]"
       ]
      },
      {
       "metadata": {},
       "output_type": "display_data",
       "png": "[encoded data removed]",
       "text": [
        "<matplotlib.figure.Figure at 0x10d06f690>"
       ]
      }
     ],
     "prompt_number": 9
    },
    {
     "cell_type": "code",
     "collapsed": false,
     "input": [
      "from sklearn.linear_model import Ridge"
     ],
     "language": "python",
     "metadata": {},
     "outputs": [],
     "prompt_number": 10
    },
    {
     "cell_type": "code",
     "collapsed": false,
     "input": [
      "degree = 5"
     ],
     "language": "python",
     "metadata": {},
     "outputs": [],
     "prompt_number": 11
    },
    {
     "cell_type": "code",
     "collapsed": false,
     "input": [
      "ridge = Ridge()\n",
      "ridge.fit(np.vander(x_act, degree + 1), y_act)"
     ],
     "language": "python",
     "metadata": {},
     "outputs": [
      {
       "metadata": {},
       "output_type": "pyout",
       "prompt_number": 12,
       "text": [
        "Ridge(alpha=1.0, copy_X=True, fit_intercept=True, max_iter=None,\n",
        "   normalize=False, solver='auto', tol=0.001)"
       ]
      }
     ],
     "prompt_number": 12
    },
    {
     "cell_type": "code",
     "collapsed": false,
     "input": [
      "x_pred = x_act"
     ],
     "language": "python",
     "metadata": {},
     "outputs": [],
     "prompt_number": 13
    },
    {
     "cell_type": "code",
     "collapsed": false,
     "input": [
      "x_pred2 = array([400, 450, 500])"
     ],
     "language": "python",
     "metadata": {},
     "outputs": [],
     "prompt_number": 14
    },
    {
     "cell_type": "code",
     "collapsed": false,
     "input": [
      "x_pred = hstack([x_pred, x_pred2])"
     ],
     "language": "python",
     "metadata": {},
     "outputs": [],
     "prompt_number": 16
    },
    {
     "cell_type": "code",
     "collapsed": false,
     "input": [
      "x_pred"
     ],
     "language": "python",
     "metadata": {},
     "outputs": [
      {
       "metadata": {},
       "output_type": "pyout",
       "prompt_number": 17,
       "text": [
        "array([   0.,    4.,   22.,   39.,   45.,   50.,   54.,   59.,   70.,\n",
        "         72.,   79.,   84.,   87.,  100.,  102.,  112.,  142.,  173.,\n",
        "        257.,  305.,  396.,  400.,  450.,  500.])"
       ]
      }
     ],
     "prompt_number": 17
    },
    {
     "cell_type": "code",
     "collapsed": false,
     "input": [
      " pl.plot(x_pred, ridge.predict(np.vander(x_pred, degree + 1)),\n",
      "            label=\"degree %d\" % degree)"
     ],
     "language": "python",
     "metadata": {},
     "outputs": [
      {
       "metadata": {},
       "output_type": "pyout",
       "prompt_number": 18,
       "text": [
        "[<matplotlib.lines.Line2D at 0x10e534c10>]"
       ]
      },
      {
       "metadata": {},
       "output_type": "display_data",
       "png": "[encoded data removed]",
       "text": [
        "<matplotlib.figure.Figure at 0x10e458350>"
       ]
      }
     ],
     "prompt_number": 18
    },
    {
     "cell_type": "code",
     "collapsed": false,
     "input": [
      "ridge.predict(np.vander(x_pred, degree + 1))"
     ],
     "language": "python",
     "metadata": {},
     "outputs": [
      {
       "metadata": {},
       "output_type": "pyout",
       "prompt_number": 19,
       "text": [
        "array([   52125.60313607,    27247.20053156,   -34956.40239624,\n",
        "         -26854.83993328,   -10468.52639396,     8029.64951834,\n",
        "          25804.46966244,    51517.00425806,   120485.66017525,\n",
        "         134689.65643936,   187986.865246  ,   229171.57815363,\n",
        "         255001.96411426,   375122.76891706,   394599.55182788,\n",
        "         494966.71584137,   809946.63503406,  1119014.89312694,\n",
        "        1608270.27241016,  1637737.09592139,  2005562.18440967,\n",
        "        2065596.50944486,  3517286.65328894,  7004381.43211605])"
       ]
      }
     ],
     "prompt_number": 19
    },
    {
     "cell_type": "code",
     "collapsed": false,
     "input": [
      "pl.scatter(x_pred, ridge.predict(np.vander(x_pred, degree + 1)), label=\"training points\")"
     ],
     "language": "python",
     "metadata": {},
     "outputs": [
      {
       "metadata": {},
       "output_type": "pyout",
       "prompt_number": 20,
       "text": [
        "<matplotlib.collections.PathCollection at 0x10cc54b90>"
       ]
      },
      {
       "metadata": {},
       "output_type": "display_data",
       "png": "[encoded data removed]",
       "text": [
        "<matplotlib.figure.Figure at 0x10cc54c90>"
       ]
      }
     ],
     "prompt_number": 20
    }
   ],
   "metadata": {}
  }
 ]
}