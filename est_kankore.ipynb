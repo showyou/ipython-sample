{
 "metadata": {
  "name": "",
  "signature": "sha256:519e749f46d83039a08176dcf8ea950c13fc650760102a1427e7f133c38a888e"
 },
 "nbformat": 3,
 "nbformat_minor": 0,
 "worksheets": [
  {
   "cells": [
    {
     "cell_type": "code",
     "collapsed": false,
     "input": [
      "%matplotlib inline"
     ],
     "language": "python",
     "metadata": {},
     "outputs": [],
     "prompt_number": 2
    },
    {
     "cell_type": "code",
     "collapsed": false,
     "input": [
      " data = loadtxt(\"kankore.csv\",delimiter=\",\")"
     ],
     "language": "python",
     "metadata": {},
     "outputs": [],
     "prompt_number": 3
    },
    {
     "cell_type": "code",
     "collapsed": false,
     "input": [
      "data"
     ],
     "language": "python",
     "metadata": {},
     "outputs": [
      {
       "metadata": {},
       "output_type": "pyout",
       "prompt_number": 6,
       "text": [
        "array([[  0.00000000e+00,   5.00000000e+03],\n",
        "       [  4.00000000e+00,   1.00000000e+04],\n",
        "       [  2.20000000e+01,   2.00000000e+04],\n",
        "       [  3.90000000e+01,   3.00000000e+04],\n",
        "       [  4.50000000e+01,   4.00000000e+04],\n",
        "       [  5.00000000e+01,   5.00000000e+04],\n",
        "       [  5.40000000e+01,   6.00000000e+04],\n",
        "       [  5.90000000e+01,   7.50000000e+04],\n",
        "       [  7.00000000e+01,   7.50000000e+04],\n",
        "       [  7.20000000e+01,   1.00000000e+05],\n",
        "       [  7.90000000e+01,   1.20000000e+05],\n",
        "       [  8.40000000e+01,   1.60000000e+05],\n",
        "       [  8.70000000e+01,   2.00000000e+05],\n",
        "       [  1.00000000e+02,   2.80000000e+05],\n",
        "       [  1.02000000e+02,   3.00000000e+05],\n",
        "       [  1.12000000e+02,   6.50000000e+05],\n",
        "       [  1.42000000e+02,   9.50000000e+05],\n",
        "       [  1.73000000e+02,   1.14000000e+06],\n",
        "       [  2.57000000e+02,   1.50000000e+06],\n",
        "       [  3.05000000e+02,   1.70000000e+06],\n",
        "       [  3.96000000e+02,   2.00000000e+06]])"
       ]
      }
     ],
     "prompt_number": 6
    },
    {
     "cell_type": "code",
     "collapsed": false,
     "input": [
      "x_act= data[:,0]"
     ],
     "language": "python",
     "metadata": {},
     "outputs": [],
     "prompt_number": 4
    },
    {
     "cell_type": "code",
     "collapsed": false,
     "input": [
      "x_act"
     ],
     "language": "python",
     "metadata": {},
     "outputs": [
      {
       "metadata": {},
       "output_type": "pyout",
       "prompt_number": 9,
       "text": [
        "array([   0.,    4.,   22.,   39.,   45.,   50.,   54.,   59.,   70.,\n",
        "         72.,   79.,   84.,   87.,  100.,  102.,  112.,  142.,  173.,\n",
        "        257.,  305.,  396.])"
       ]
      }
     ],
     "prompt_number": 9
    },
    {
     "cell_type": "code",
     "collapsed": false,
     "input": [
      "y_act = data[:,1]"
     ],
     "language": "python",
     "metadata": {},
     "outputs": [],
     "prompt_number": 5
    },
    {
     "cell_type": "code",
     "collapsed": false,
     "input": [
      "import pylab as pl"
     ],
     "language": "python",
     "metadata": {},
     "outputs": [],
     "prompt_number": 6
    },
    {
     "cell_type": "code",
     "collapsed": false,
     "input": [
      "%matplotlib inline"
     ],
     "language": "python",
     "metadata": {},
     "outputs": [],
     "prompt_number": 10
    },
    {
     "cell_type": "code",
     "collapsed": false,
     "input": [
      "pl.plot(x_act, y_act)"
     ],
     "language": "python",
     "metadata": {},
     "outputs": [
      {
       "metadata": {},
       "output_type": "pyout",
       "prompt_number": 8,
       "text": [
        "[<matplotlib.lines.Line2D at 0x110155850>]"
       ]
      },
      {
       "metadata": {},
       "output_type": "display_data",
       "png": "[encoded data removed]",
       "text": [
        "<matplotlib.figure.Figure at 0x11013c210>"
       ]
      }
     ],
     "prompt_number": 8
    },
    {
     "cell_type": "code",
     "collapsed": false,
     "input": [
      "from sklearn.linear_model import Ridge"
     ],
     "language": "python",
     "metadata": {},
     "outputs": [],
     "prompt_number": 11
    },
    {
     "cell_type": "code",
     "collapsed": false,
     "input": [
      "degree = 4"
     ],
     "language": "python",
     "metadata": {},
     "outputs": [],
     "prompt_number": 14
    },
    {
     "cell_type": "code",
     "collapsed": false,
     "input": [
      "ridge = Ridge()\n",
      "ridge.fit(np.vander(x_act, degree + 1), y_act)"
     ],
     "language": "python",
     "metadata": {},
     "outputs": [
      {
       "metadata": {},
       "output_type": "pyout",
       "prompt_number": 15,
       "text": [
        "Ridge(alpha=1.0, copy_X=True, fit_intercept=True, max_iter=None,\n",
        "   normalize=False, solver='auto', tol=0.001)"
       ]
      }
     ],
     "prompt_number": 15
    },
    {
     "cell_type": "code",
     "collapsed": false,
     "input": [
      " pl.plot(x_act, ridge.predict(np.vander(x_act, degree + 1)),\n",
      "            label=\"degree %d\" % degree)"
     ],
     "language": "python",
     "metadata": {},
     "outputs": [
      {
       "metadata": {},
       "output_type": "pyout",
       "prompt_number": 16,
       "text": [
        "[<matplotlib.lines.Line2D at 0x11129e850>]"
       ]
      },
      {
       "metadata": {},
       "output_type": "display_data",
       "png": "[encoded data removed]",
       "text": [
        "<matplotlib.figure.Figure at 0x110148c10>"
       ]
      }
     ],
     "prompt_number": 16
    },
    {
     "cell_type": "code",
     "collapsed": false,
     "input": [
      "ridge.predict(np.vander(x_act, degree + 1))"
     ],
     "language": "python",
     "metadata": {},
     "outputs": [
      {
       "metadata": {},
       "output_type": "pyout",
       "prompt_number": 19,
       "text": [
        "array([  6.47551242e+04,   3.33421668e+04,  -4.48699420e+04,\n",
        "        -3.81485255e+04,  -2.03724063e+04,  -2.59632296e+02,\n",
        "         1.90181238e+04,   4.67815187e+04,   1.20490038e+05,\n",
        "         1.35537880e+05,   1.91628217e+05,   2.34591430e+05,\n",
        "         2.61378768e+05,   3.84479342e+05,   4.04226921e+05,\n",
        "         5.05133885e+05,   8.13765242e+05,   1.10754964e+06,\n",
        "         1.58391796e+06,   1.65972260e+06,   2.00233166e+06])"
       ]
      }
     ],
     "prompt_number": 19
    },
    {
     "cell_type": "code",
     "collapsed": false,
     "input": [
      "len(x_act)"
     ],
     "language": "python",
     "metadata": {},
     "outputs": [
      {
       "metadata": {},
       "output_type": "pyout",
       "prompt_number": 22,
       "text": [
        "21"
       ]
      }
     ],
     "prompt_number": 22
    },
    {
     "cell_type": "code",
     "collapsed": false,
     "input": [
      "pl.scatter(x_act, ridge.predict(np.vander(x_act, degree + 1)), label=\"training points\")"
     ],
     "language": "python",
     "metadata": {},
     "outputs": [
      {
       "metadata": {},
       "output_type": "pyout",
       "prompt_number": 24,
       "text": [
        "<matplotlib.collections.PathCollection at 0x11156fb10>"
       ]
      },
      {
       "metadata": {},
       "output_type": "display_data",
       "png": "[encoded data removed]",
       "text": [
        "<matplotlib.figure.Figure at 0x111422f50>"
       ]
      }
     ],
     "prompt_number": 24
    }
   ],
   "metadata": {}
  }
 ]
}
